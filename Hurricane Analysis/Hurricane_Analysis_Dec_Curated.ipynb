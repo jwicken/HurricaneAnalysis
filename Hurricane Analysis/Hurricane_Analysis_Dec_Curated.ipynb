{
 "cells": [
  {
   "cell_type": "code",
   "execution_count": 2,
   "id": "abca76b3",
   "metadata": {},
   "outputs": [
    {
     "name": "stdout",
     "output_type": "stream",
     "text": [
      "<class 'float'>\n"
     ]
    }
   ],
   "source": [
    "# damages (USD($)) of hurricanes\n",
    "damages = ['Damages not recorded', '100M', 'Damages not recorded', '40M',\n",
    "          '27.9M', '5M', 'Damages not recorded', '306M', '2M', '65.8M',\n",
    "          '326M', '60.3M', '208M', '1.42B', '25.4M', 'Damages not recorded',\n",
    "          '1.54B', '1.24B', '7.1B', '10B', '26.5B', '6.2B', '5.37B', '23.3B',\n",
    "          '1.01B', '125B', '12B', '29.4B', '1.76B', '720M', '15.1B', '64.8B',\n",
    "          '91.6B', '25.1B']\n",
    "# Update Recorded Damages\n",
    "def damage_updates(damage_data): \n",
    "    conversion = {\"M\": 1000000,\n",
    "             \"B\": 1000000000}\n",
    "    updated_damages = list()\n",
    "    for el in damage_data: \n",
    "        if el == 'Damages not recorded':\n",
    "            updated_damages.append(el)\n",
    "        if el.find('M') != -1:\n",
    "            updated_damages.append(float(el[0:el.find('M')])*conversion[\"M\"])\n",
    "        if el.find('B') != -1:\n",
    "            updated_damages.append(float(el[0:el.find('B')])*conversion[\"B\"])\n",
    "    return updated_damages\n",
    "                    \n",
    "damage_floats = damage_updates(damages)\n",
    "damage_floats[0] = 'Squirrel'\n",
    "damage_floats[12] = 'Ding Dong'"
   ]
  },
  {
   "cell_type": "code",
   "execution_count": 3,
   "id": "c0ce4177",
   "metadata": {},
   "outputs": [
    {
     "name": "stdout",
     "output_type": "stream",
     "text": [
      "{'Cuba I': {'Name': 'Cuba I', 'Month': 'October', 'Year': 1924, 'Wind': 165, 'Area': ['Central America', 'Mexico', 'Cuba', 'Florida', 'The Bahamas'], 'Damage': 'Squirrel', 'Death': 90}, 'San Felipe II Okeechobee': {'Name': 'San Felipe II Okeechobee', 'Month': 'September', 'Year': 1928, 'Wind': 160, 'Area': ['Lesser Antilles', 'The Bahamas', 'United States East Coast', 'Atlantic Canada'], 'Damage': 100000000.0, 'Death': 4000}, 'Bahamas': {'Name': 'Bahamas', 'Month': 'September', 'Year': 1932, 'Wind': 160, 'Area': ['The Bahamas', 'Northeastern United States'], 'Damage': 'Damages not recorded', 'Death': 16}, 'Cuba II': {'Name': 'Cuba II', 'Month': 'November', 'Year': 1932, 'Wind': 175, 'Area': ['Lesser Antilles', 'Jamaica', 'Cayman Islands', 'Cuba', 'The Bahamas', 'Bermuda'], 'Damage': 40000000.0, 'Death': 3103}, 'CubaBrownsville': {'Name': 'CubaBrownsville', 'Month': 'August', 'Year': 1933, 'Wind': 160, 'Area': ['The Bahamas', 'Cuba', 'Florida', 'Texas', 'Tamaulipas'], 'Damage': 27900000.0, 'Death': 179}, 'Tampico': {'Name': 'Tampico', 'Month': 'September', 'Year': 1933, 'Wind': 160, 'Area': ['Jamaica', 'Yucatn Peninsula'], 'Damage': 5000000.0, 'Death': 184}, 'Labor Day': {'Name': 'Labor Day', 'Month': 'September', 'Year': 1935, 'Wind': 185, 'Area': ['The Bahamas', 'Florida', 'Georgia', 'The Carolinas', 'Virginia'], 'Damage': 'Damages not recorded', 'Death': 408}, 'New England': {'Name': 'New England', 'Month': 'September', 'Year': 1938, 'Wind': 160, 'Area': ['Southeastern United States', 'Northeastern United States', 'Southwestern Quebec'], 'Damage': 306000000.0, 'Death': 682}, 'Carol': {'Name': 'Carol', 'Month': 'September', 'Year': 1953, 'Wind': 160, 'Area': ['Bermuda', 'New England', 'Atlantic Canada'], 'Damage': 2000000.0, 'Death': 5}, 'Janet': {'Name': 'Janet', 'Month': 'September', 'Year': 1955, 'Wind': 175, 'Area': ['Lesser Antilles', 'Central America'], 'Damage': 65800000.0, 'Death': 1023}, 'Carla': {'Name': 'Carla', 'Month': 'September', 'Year': 1961, 'Wind': 175, 'Area': ['Texas', 'Louisiana', 'Midwestern United States'], 'Damage': 326000000.0, 'Death': 43}, 'Hattie': {'Name': 'Hattie', 'Month': 'October', 'Year': 1961, 'Wind': 160, 'Area': ['Central America'], 'Damage': 60300000.0, 'Death': 319}, 'Beulah': {'Name': 'Beulah', 'Month': 'September', 'Year': 1967, 'Wind': 160, 'Area': ['The Caribbean', 'Mexico', 'Texas'], 'Damage': 'Ding Dong', 'Death': 688}, 'Camille': {'Name': 'Camille', 'Month': 'August', 'Year': 1969, 'Wind': 175, 'Area': ['Cuba', 'United States Gulf Coast'], 'Damage': 1420000000.0, 'Death': 259}, 'Edith': {'Name': 'Edith', 'Month': 'September', 'Year': 1971, 'Wind': 160, 'Area': ['The Caribbean', 'Central America', 'Mexico', 'United States Gulf Coast'], 'Damage': 25400000.0, 'Death': 37}, 'Anita': {'Name': 'Anita', 'Month': 'September', 'Year': 1977, 'Wind': 175, 'Area': ['Mexico'], 'Damage': 'Damages not recorded', 'Death': 11}, 'David': {'Name': 'David', 'Month': 'August', 'Year': 1979, 'Wind': 175, 'Area': ['The Caribbean', 'United States East coast'], 'Damage': 1540000000.0, 'Death': 2068}, 'Allen': {'Name': 'Allen', 'Month': 'August', 'Year': 1980, 'Wind': 190, 'Area': ['The Caribbean', 'Yucatn Peninsula', 'Mexico', 'South Texas'], 'Damage': 1240000000.0, 'Death': 269}, 'Gilbert': {'Name': 'Gilbert', 'Month': 'September', 'Year': 1988, 'Wind': 185, 'Area': ['Jamaica', 'Venezuela', 'Central America', 'Hispaniola', 'Mexico'], 'Damage': 7100000000.0, 'Death': 318}, 'Hugo': {'Name': 'Hugo', 'Month': 'September', 'Year': 1989, 'Wind': 160, 'Area': ['The Caribbean', 'United States East Coast'], 'Damage': 10000000000.0, 'Death': 107}, 'Andrew': {'Name': 'Andrew', 'Month': 'August', 'Year': 1992, 'Wind': 175, 'Area': ['The Bahamas', 'Florida', 'United States Gulf Coast'], 'Damage': 26500000000.0, 'Death': 65}, 'Mitch': {'Name': 'Mitch', 'Month': 'October', 'Year': 1998, 'Wind': 180, 'Area': ['Central America', 'Yucatn Peninsula', 'South Florida'], 'Damage': 6200000000.0, 'Death': 19325}, 'Isabel': {'Name': 'Isabel', 'Month': 'September', 'Year': 2003, 'Wind': 165, 'Area': ['Greater Antilles', 'Bahamas', 'Eastern United States', 'Ontario'], 'Damage': 5370000000.0, 'Death': 51}, 'Ivan': {'Name': 'Ivan', 'Month': 'September', 'Year': 2004, 'Wind': 165, 'Area': ['The Caribbean', 'Venezuela', 'United States Gulf Coast'], 'Damage': 23300000000.0, 'Death': 124}, 'Emily': {'Name': 'Emily', 'Month': 'July', 'Year': 2005, 'Wind': 160, 'Area': ['Windward Islands', 'Jamaica', 'Mexico', 'Texas'], 'Damage': 1010000000.0, 'Death': 17}, 'Katrina': {'Name': 'Katrina', 'Month': 'August', 'Year': 2005, 'Wind': 175, 'Area': ['Bahamas', 'United States Gulf Coast'], 'Damage': 125000000000.0, 'Death': 1836}, 'Rita': {'Name': 'Rita', 'Month': 'September', 'Year': 2005, 'Wind': 180, 'Area': ['Cuba', 'United States Gulf Coast'], 'Damage': 12000000000.0, 'Death': 125}, 'Wilma': {'Name': 'Wilma', 'Month': 'October', 'Year': 2005, 'Wind': 185, 'Area': ['Greater Antilles', 'Central America', 'Florida'], 'Damage': 29400000000.0, 'Death': 87}, 'Dean': {'Name': 'Dean', 'Month': 'August', 'Year': 2007, 'Wind': 175, 'Area': ['The Caribbean', 'Central America'], 'Damage': 1760000000.0, 'Death': 45}, 'Felix': {'Name': 'Felix', 'Month': 'September', 'Year': 2007, 'Wind': 175, 'Area': ['Nicaragua', 'Honduras'], 'Damage': 720000000.0, 'Death': 133}, 'Matthew': {'Name': 'Matthew', 'Month': 'October', 'Year': 2016, 'Wind': 165, 'Area': ['Antilles', 'Venezuela', 'Colombia', 'United States East Coast', 'Atlantic Canada'], 'Damage': 15100000000.0, 'Death': 603}, 'Irma': {'Name': 'Irma', 'Month': 'September', 'Year': 2017, 'Wind': 180, 'Area': ['Cape Verde', 'The Caribbean', 'British Virgin Islands', 'U.S. Virgin Islands', 'Cuba', 'Florida'], 'Damage': 64800000000.0, 'Death': 138}, 'Maria': {'Name': 'Maria', 'Month': 'September', 'Year': 2017, 'Wind': 175, 'Area': ['Lesser Antilles', 'Virgin Islands', 'Puerto Rico', 'Dominican Republic', 'Turks and Caicos Islands'], 'Damage': 91600000000.0, 'Death': 3057}, 'Michael': {'Name': 'Michael', 'Month': 'October', 'Year': 2018, 'Wind': 160, 'Area': ['Central America', 'United States Gulf Coast (especially Florida Panhandle)'], 'Damage': 25100000000.0, 'Death': 74}}\n"
     ]
    }
   ],
   "source": [
    "# names of hurricanes\n",
    "names = ['Cuba I', 'San Felipe II Okeechobee', 'Bahamas', 'Cuba II', 'CubaBrownsville', 'Tampico', 'Labor Day', 'New England', 'Carol', 'Janet', 'Carla', 'Hattie', 'Beulah', 'Camille', 'Edith', 'Anita', 'David', 'Allen', 'Gilbert', 'Hugo', 'Andrew', 'Mitch', 'Isabel', 'Ivan', 'Emily', 'Katrina', 'Rita', 'Wilma', 'Dean', 'Felix', 'Matthew', 'Irma', 'Maria', 'Michael']\n",
    "\n",
    "# months of hurricanes\n",
    "months = ['October', 'September', 'September', 'November', 'August', 'September', 'September', 'September', 'September', 'September', 'September', 'October', 'September', 'August', 'September', 'September', 'August', 'August', 'September', 'September', 'August', 'October', 'September', 'September', 'July', 'August', 'September', 'October', 'August', 'September', 'October', 'September', 'September', 'October']\n",
    "\n",
    "# years of hurricanes\n",
    "years = [1924, 1928, 1932, 1932, 1933, 1933, 1935, 1938, 1953, 1955, 1961, 1961, 1967, 1969, 1971, 1977, 1979, 1980, 1988, 1989, 1992, 1998, 2003, 2004, 2005, 2005, 2005, 2005, 2007, 2007, 2016, 2017, 2017, 2018]\n",
    "\n",
    "# maximum sustained winds (mph) of hurricanes\n",
    "max_sustained_winds = [165, 160, 160, 175, 160, 160, 185, 160, 160, 175, 175, 160, 160, 175, 160, 175, 175, 190, 185, 160, 175, 180, 165, 165, 160, 175, 180, 185, 175, 175, 165, 180, 175, 160]\n",
    "\n",
    "# areas affected by each hurricane\n",
    "areas_affected = [['Central America', 'Mexico', 'Cuba', 'Florida', 'The Bahamas'], ['Lesser Antilles', 'The Bahamas', 'United States East Coast', 'Atlantic Canada'], ['The Bahamas', 'Northeastern United States'], ['Lesser Antilles', 'Jamaica', 'Cayman Islands', 'Cuba', 'The Bahamas', 'Bermuda'], ['The Bahamas', 'Cuba', 'Florida', 'Texas', 'Tamaulipas'], ['Jamaica', 'Yucatn Peninsula'], ['The Bahamas', 'Florida', 'Georgia', 'The Carolinas', 'Virginia'], ['Southeastern United States', 'Northeastern United States', 'Southwestern Quebec'], ['Bermuda', 'New England', 'Atlantic Canada'], ['Lesser Antilles', 'Central America'], ['Texas', 'Louisiana', 'Midwestern United States'], ['Central America'], ['The Caribbean', 'Mexico', 'Texas'], ['Cuba', 'United States Gulf Coast'], ['The Caribbean', 'Central America', 'Mexico', 'United States Gulf Coast'], ['Mexico'], ['The Caribbean', 'United States East coast'], ['The Caribbean', 'Yucatn Peninsula', 'Mexico', 'South Texas'], ['Jamaica', 'Venezuela', 'Central America', 'Hispaniola', 'Mexico'], ['The Caribbean', 'United States East Coast'], ['The Bahamas', 'Florida', 'United States Gulf Coast'], ['Central America', 'Yucatn Peninsula', 'South Florida'], ['Greater Antilles', 'Bahamas', 'Eastern United States', 'Ontario'], ['The Caribbean', 'Venezuela', 'United States Gulf Coast'], ['Windward Islands', 'Jamaica', 'Mexico', 'Texas'], ['Bahamas', 'United States Gulf Coast'], ['Cuba', 'United States Gulf Coast'], ['Greater Antilles', 'Central America', 'Florida'], ['The Caribbean', 'Central America'], ['Nicaragua', 'Honduras'], ['Antilles', 'Venezuela', 'Colombia', 'United States East Coast', 'Atlantic Canada'], ['Cape Verde', 'The Caribbean', 'British Virgin Islands', 'U.S. Virgin Islands', 'Cuba', 'Florida'], ['Lesser Antilles', 'Virgin Islands', 'Puerto Rico', 'Dominican Republic', 'Turks and Caicos Islands'], ['Central America', 'United States Gulf Coast (especially Florida Panhandle)']]\n",
    "\n",
    "# damages (USD($)) of hurricanes\n",
    "damages = ['Damages not recorded', '100M', 'Damages not recorded', '40M', '27.9M', '5M', 'Damages not recorded', '306M', '2M', '65.8M', '326M', '60.3M', '208M', '1.42B', '25.4M', 'Damages not recorded', '1.54B', '1.24B', '7.1B', '10B', '26.5B', '6.2B', '5.37B', '23.3B', '1.01B', '125B', '12B', '29.4B', '1.76B', '720M', '15.1B', '64.8B', '91.6B', '25.1B']\n",
    "\n",
    "# deaths for each hurricane\n",
    "deaths = [90,4000,16,3103,179,184,408,682,5,1023,43,319,688,259,37,11,2068,269,318,107,65,19325,51,124,17,1836,125,87,45,133,603,138,3057,74]\n",
    "\n",
    "# 2\n",
    "# Create a Table\n",
    "def dictionary_generator(names, months, years, winds, areas, damages, deaths):\n",
    "    hurricane_dictionary = dict()\n",
    "    for i in range(0,len(names)): \n",
    "        hurricane_dictionary[names[i]] = {'Name': names[i],\n",
    "                                         'Month': months[i], \n",
    "                                         'Year': years[i], \n",
    "                                         'Wind': winds[i], \n",
    "                                         'Area': areas[i], \n",
    "                                         'Damage': damages[i],\n",
    "                                         'Death': deaths[i]}\n",
    "    return hurricane_dictionary\n",
    "        \n",
    "# Create and view the hurricanes dictionary\n",
    "hurricane_dictionary = dictionary_generator(names, months, years, max_sustained_winds, areas_affected, damage_floats, deaths)\n",
    "print(hurricane_dictionary)"
   ]
  },
  {
   "cell_type": "code",
   "execution_count": 4,
   "id": "a0799f8c",
   "metadata": {},
   "outputs": [
    {
     "name": "stdout",
     "output_type": "stream",
     "text": [
      "[{'Name': 'Bahamas', 'Month': 'September', 'Year': 1932, 'Wind': 160, 'Area': ['The Bahamas', 'Northeastern United States'], 'Damage': 'Damages not recorded', 'Death': 16}, {'Name': 'Cuba II', 'Month': 'November', 'Year': 1932, 'Wind': 175, 'Area': ['Lesser Antilles', 'Jamaica', 'Cayman Islands', 'Cuba', 'The Bahamas', 'Bermuda'], 'Damage': 40000000.0, 'Death': 3103}]\n"
     ]
    }
   ],
   "source": [
    "### 3\n",
    "# Organizing by Year\n",
    "#create a new dictionary of hurricanes with year and key\n",
    "def year_dictionary(diction): \n",
    "    new_dict = dict()\n",
    "    for element in diction: \n",
    "        current_key = diction[element]['Year']\n",
    "        current_dict_value = diction[element]\n",
    "        if current_key not in new_dict: \n",
    "            new_dict[current_key] = [current_dict_value]\n",
    "        else: \n",
    "            new_dict[current_key].append(current_dict_value)\n",
    "    return new_dict\n",
    "hurricanes_by_year = year_dictionary(hurricane_dictionary)\n",
    "print(hurricanes_by_year[1932])"
   ]
  },
  {
   "cell_type": "code",
   "execution_count": 5,
   "id": "71a9f4a7",
   "metadata": {},
   "outputs": [
    {
     "name": "stdout",
     "output_type": "stream",
     "text": [
      "{'Central America': 9, 'Mexico': 7, 'Cuba': 6, 'Florida': 6, 'The Bahamas': 7, 'Lesser Antilles': 4, 'United States East Coast': 3, 'Atlantic Canada': 3, 'Northeastern United States': 2, 'Jamaica': 4, 'Cayman Islands': 1, 'Bermuda': 2, 'Texas': 4, 'Tamaulipas': 1, 'Yucatn Peninsula': 3, 'Georgia': 1, 'The Carolinas': 1, 'Virginia': 1, 'Southeastern United States': 1, 'Southwestern Quebec': 1, 'New England': 1, 'Louisiana': 1, 'Midwestern United States': 1, 'The Caribbean': 8, 'United States Gulf Coast': 6, 'United States East coast': 1, 'South Texas': 1, 'Venezuela': 3, 'Hispaniola': 1, 'South Florida': 1, 'Greater Antilles': 2, 'Bahamas': 2, 'Eastern United States': 1, 'Ontario': 1, 'Windward Islands': 1, 'Nicaragua': 1, 'Honduras': 1, 'Antilles': 1, 'Colombia': 1, 'Cape Verde': 1, 'British Virgin Islands': 1, 'U.S. Virgin Islands': 1, 'Virgin Islands': 1, 'Puerto Rico': 1, 'Dominican Republic': 1, 'Turks and Caicos Islands': 1, 'United States Gulf Coast (especially Florida Panhandle)': 1}\n"
     ]
    }
   ],
   "source": [
    "# 4\n",
    "# Counting Damaged Areas\n",
    "\n",
    "# create dictionary of areas to store the number of hurricanes involved in\n",
    "def counting_areas(large_dictionary):\n",
    "    area_counts = dict()\n",
    "    for items in large_dictionary: \n",
    "        for area in large_dictionary[items]['Area']:\n",
    "            if area not in area_counts: \n",
    "                area_counts[area] = 1\n",
    "            else: \n",
    "                area_counts[area] += 1\n",
    "    return area_counts\n",
    "area_counts = counting_areas(hurricane_dictionary)\n",
    "print(area_counts)"
   ]
  },
  {
   "cell_type": "code",
   "execution_count": 6,
   "id": "f0e9caa5",
   "metadata": {},
   "outputs": [
    {
     "name": "stdout",
     "output_type": "stream",
     "text": [
      "{'Central America': 9}\n"
     ]
    }
   ],
   "source": [
    "# 5\n",
    "# Calculating Maximum Hurricane Count\n",
    "# find most frequently affected area and the number of hurricanes involved in\n",
    "def maximum_hurricane(diction): \n",
    "    max_count = 0\n",
    "    max_hurricane = {}\n",
    "    for keys in diction:\n",
    "        if diction[keys] > max_count: \n",
    "            max_count = diction[keys]\n",
    "            max_hurricane[keys] = max_count\n",
    "    return max_hurricane\n",
    "print(maximum_hurricane(area_counts))\n"
   ]
  },
  {
   "cell_type": "code",
   "execution_count": 7,
   "id": "a73814b9",
   "metadata": {},
   "outputs": [
    {
     "name": "stdout",
     "output_type": "stream",
     "text": [
      "{'Cuba I': 90, 'San Felipe II Okeechobee': 4000, 'Mitch': 19325}\n",
      "Mitch 19325\n"
     ]
    }
   ],
   "source": [
    "# 6\n",
    "# Calculating the Deadliest Hurricane\n",
    "\n",
    "# find highest mortality hurricane and the number of deaths\n",
    "def maximum_deaths(diction): \n",
    "    max_count = 0\n",
    "    max_hurricane_death = {}\n",
    "    for keys in diction:\n",
    "        for elements in keys:\n",
    "            if diction[keys]['Death'] > max_count: \n",
    "                max_count = diction[keys][\"Death\"]\n",
    "                max_hurricane_death[keys] = max_count\n",
    "    return max_hurricane_death\n",
    "iterated_dictionary = maximum_deaths(hurricane_dictionary)\n",
    "print(iterated_dictionary)\n",
    "print(max(iterated_dictionary, key=iterated_dictionary.get), iterated_dictionary[max(iterated_dictionary, key=iterated_dictionary.get)])"
   ]
  },
  {
   "cell_type": "code",
   "execution_count": 8,
   "id": "62f8a1a1",
   "metadata": {},
   "outputs": [
    {
     "name": "stdout",
     "output_type": "stream",
     "text": [
      "{'Name': 'Mitch', 'Month': 'October', 'Year': 1998, 'Wind': 180, 'Area': ['Central America', 'Yucatn Peninsula', 'South Florida'], 'Damage': 6200000000.0, 'Death': 19325}\n"
     ]
    }
   ],
   "source": [
    "# 7\n",
    "# Rating Hurricanes by Mortality\n",
    "def hurricane_severity(large_dict):\n",
    "    mortality_scale = {0: 0, 1: 100, 2: 500, 3: 1000, 4: 10000}\n",
    "    mortality_book = {0:[], 1:[], 2:[], 3:[], 4:[], 5:[]}\n",
    "    for el in large_dict: \n",
    "        for traits in el: \n",
    "            if large_dict[el]['Death'] == 0:\n",
    "                mortality_book[0] = large_dict[el]\n",
    "            elif large_dict[el]['Death'] <=100: \n",
    "                mortality_book[1] = large_dict[el]\n",
    "            elif large_dict[el]['Death'] <=500: \n",
    "                mortality_book[2] = large_dict[el]\n",
    "            elif large_dict[el]['Death']<=1000: \n",
    "                mortality_book[3] = large_dict[el]\n",
    "            elif large_dict[el]['Death']<=10000: \n",
    "                mortality_book[4] = large_dict[el]\n",
    "            else:\n",
    "                mortality_book[5] = large_dict[el]\n",
    "    return mortality_book\n",
    "# categorize hurricanes in new dictionary with mortality severity as key\n",
    "mortality_dictionary = hurricane_severity(hurricane_dictionary)\n",
    "print(mortality_dictionary[5])"
   ]
  },
  {
   "cell_type": "code",
   "execution_count": 9,
   "id": "dbf79d64",
   "metadata": {},
   "outputs": [
    {
     "name": "stdout",
     "output_type": "stream",
     "text": [
      "<class 'float'>\n",
      "Value for Cuba I not a number\n",
      "Value for Beulah not a number\n",
      "('Katrina', 125000000000.0)\n"
     ]
    }
   ],
   "source": [
    "# 8\n",
    "print(type(hurricane_dictionary['Carol']['Damage']))\n",
    "a = 3\n",
    "b = 3\n",
    "# Calculating Hurricane Maximum Damage\n",
    "# find highest damage inducing hurricane and its total cost\n",
    "def maximum_cost(diction): \n",
    "    max_cost = 0.0\n",
    "    max_hurricane = {}\n",
    "    for keys in diction:\n",
    "            if diction[keys]['Damage'] == 'Damages not recorded':\n",
    "                max_cost = 0\n",
    "            else: \n",
    "                try:\n",
    "                    damage_value = float(diction[keys]['Damage'])\n",
    "                except ValueError: \n",
    "                    print('Value for {} not a number'.format(diction[keys]['Name']))\n",
    "                    continue\n",
    "            if damage_value > max_cost: \n",
    "                max_cost = damage_value\n",
    "                max_hurricane = keys\n",
    "    return max_hurricane, max_cost\n",
    "print(maximum_cost(hurricane_dictionary))"
   ]
  },
  {
   "cell_type": "code",
   "execution_count": 10,
   "id": "530da0ae",
   "metadata": {},
   "outputs": [
    {
     "name": "stdout",
     "output_type": "stream",
     "text": [
      "Warning: Unable to convert damage value for Cuba I to a number\n",
      "Warning: Unable to convert damage value for Beulah to a number\n",
      "[{'Name': 'Bahamas', 'Month': 'September', 'Year': 1932, 'Wind': 160, 'Area': ['The Bahamas', 'Northeastern United States'], 'Damage': 'Damages not recorded', 'Death': 16}, {'Name': 'Labor Day', 'Month': 'September', 'Year': 1935, 'Wind': 185, 'Area': ['The Bahamas', 'Florida', 'Georgia', 'The Carolinas', 'Virginia'], 'Damage': 'Damages not recorded', 'Death': 408}, {'Name': 'Anita', 'Month': 'September', 'Year': 1977, 'Wind': 175, 'Area': ['Mexico'], 'Damage': 'Damages not recorded', 'Death': 11}]\n"
     ]
    }
   ],
   "source": [
    "def damage_rating(large_dict):\n",
    "    damage_scale = {0: 0,\n",
    "                1: 100000000,\n",
    "                2: 1000000000,\n",
    "                3: 10000000000,\n",
    "                4: 50000000000}\n",
    "    damage_book = {0:[], 1:[], 2:[], 3:[], 4:[], 5:[]}\n",
    "    for el in large_dict:\n",
    "        damage_string = large_dict[el]['Damage']\n",
    "        if damage_string == \"Damages not recorded\": \n",
    "            total_damage = 0\n",
    "        else: \n",
    "            try:\n",
    "                total_damage = float(large_dict[el]['Damage'])\n",
    "            except ValueError: \n",
    "                print('Warning: Unable to convert damage value for {} to a number'.format(large_dict[el]['Name']))\n",
    "                continue\n",
    "        if total_damage == 'Damages not recorded': \n",
    "            damage_book[0].append(large_dict[el])\n",
    "        elif total_damage == 0: \n",
    "            damage_book[0].append(large_dict[el])\n",
    "        elif total_damage <= damage_scale[1]: \n",
    "            damage_book[1].append(large_dict[el])\n",
    "        elif total_damage <= damage_scale[2]: \n",
    "            damage_book[2].append(large_dict[el])\n",
    "        elif total_damage <= damage_scale[3]: \n",
    "            damage_book[3].append(large_dict[el])\n",
    "        elif total_damage <= damage_scale[4]: \n",
    "            damage_book[4].append(large_dict[el])\n",
    "        else:\n",
    "            damage_book[5].append(large_dict[el])\n",
    "    return damage_book\n",
    "# categorize hurricanes in new dictionary with damage severity as key\n",
    "damage_ratings = damage_rating(hurricane_dictionary)\n",
    "print(damage_ratings[0])"
   ]
  },
  {
   "cell_type": "code",
   "execution_count": null,
   "id": "b383572f",
   "metadata": {},
   "outputs": [],
   "source": []
  },
  {
   "cell_type": "code",
   "execution_count": null,
   "id": "3e223ea7",
   "metadata": {},
   "outputs": [],
   "source": []
  },
  {
   "cell_type": "code",
   "execution_count": null,
   "id": "01a2b0f2",
   "metadata": {},
   "outputs": [],
   "source": []
  }
 ],
 "metadata": {
  "kernelspec": {
   "display_name": "Python 3 (ipykernel)",
   "language": "python",
   "name": "python3"
  },
  "language_info": {
   "codemirror_mode": {
    "name": "ipython",
    "version": 3
   },
   "file_extension": ".py",
   "mimetype": "text/x-python",
   "name": "python",
   "nbconvert_exporter": "python",
   "pygments_lexer": "ipython3",
   "version": "3.11.5"
  }
 },
 "nbformat": 4,
 "nbformat_minor": 5
}
